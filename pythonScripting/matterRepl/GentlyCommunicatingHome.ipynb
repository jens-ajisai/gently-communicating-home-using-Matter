{
 "cells": [
  {
   "cell_type": "markdown",
   "id": "bf99bce9-e850-448b-81d2-31df692295ee",
   "metadata": {},
   "source": [
    "Documentation at https://deepnote.com/viewer/github/project-chip/connectedhomeip/blob/master/docs/guides/repl/Matter_Basic_Interactions.ipynb\n",
    "Unfortunately this documentation disappeared and I have no copy!"
   ]
  },
  {
   "cell_type": "code",
   "execution_count": null,
   "id": "4e41d78c-cbbc-44a3-8f4a-d89962fa9240",
   "metadata": {
    "tags": []
   },
   "outputs": [],
   "source": [
    "# Clear any leftovers from the previous session\n",
    "REALLY_CLEAR=False\n",
    "\n",
    "if REALLY_CLEAR:\n",
    "    import os, subprocess\n",
    "\n",
    "    if os.path.isfile('repl.json'):\n",
    "        os.remove('repl.json')\n",
    "\n",
    "    # So that the all-clusters-app won't boot with stale prior state.\n",
    "    # os.system('sudo rm -rf /tmp/chip_*')"
   ]
  },
  {
   "cell_type": "code",
   "execution_count": null,
   "id": "1d538d82-e302-4817-850c-cb4d279c8c18",
   "metadata": {
    "tags": []
   },
   "outputs": [],
   "source": [
    "# Load the cluster and settings of the controler\n",
    "import chip.native\n",
    "import pkgutil\n",
    "module = pkgutil.get_loader('chip.ChipReplStartup')\n",
    "%run {module.path} --storagepath repl.json\n",
    "\n",
    "import chip.clusters as Clusters"
   ]
  },
  {
   "cell_type": "code",
   "execution_count": null,
   "id": "a27f9fff-e359-440c-a0a3-fb8594fadfee",
   "metadata": {
    "tags": []
   },
   "outputs": [],
   "source": [
    "import chip.clusters as Clusters\n",
    "\n",
    "bridgeId = 3\n",
    "lightId = 4\n",
    "\n",
    "wifi_ssid = __REPLACE_ME__\n",
    "wifi_credentials = __REPLACE_ME__\n",
    "\n",
    "thread_dataset = b'__REPLACE_ME__'"
   ]
  },
  {
   "cell_type": "code",
   "execution_count": null,
   "id": "9f1edfc0-9f95-41a9-9c23-acbe5b203dcb",
   "metadata": {
    "tags": []
   },
   "outputs": [],
   "source": [
    "# retrieve the thread operational dataset by 'sudo ot-ctl dataset active -x'\n",
    "if REALLY_CLEAR:\n",
    "    # Use this if the bridge is not commissioned at all\n",
    "    # devCtrl.CommissionThread(3840, 20202021, bridgeId, threadOperationalDataset=thread_dataset)\n",
    "    # Use this when the bridge is already commissioned to a Thread network\n",
    "    devCtrl.CommissionWithCode(setupPayload='MT:Y.K90AFN002J.F35E10',nodeid=bridgeId)\n",
    "    # Use this when using the nRF7002dk\n",
    "    devCtrl.CommissionWifi(3840, 20202021, bridgeId, ssid=wifi_ssid, credentials=wifi_credentials)\n"
   ]
  },
  {
   "cell_type": "code",
   "execution_count": null,
   "id": "9fce8875-d6d5-4e59-9a32-d62ff1eca029",
   "metadata": {},
   "outputs": [],
   "source": [
    "if REALLY_CLEAR:\n",
    "    # devCtrl.CommissionThread(3840, 20202021, lightId, threadOperationalDataset=thread_dataset)    \n",
    "    devCtrl.CommissionWithCode(setupPayload='MT:6FCJ1AFN00KA0K7J020',nodeid=lightId)\n"
   ]
  },
  {
   "cell_type": "code",
   "execution_count": null,
   "id": "8c0f0057-07a1-403b-8c51-d16f42181377",
   "metadata": {
    "tags": []
   },
   "outputs": [],
   "source": [
    "import asyncio\n",
    "queue = asyncio.Queue()\n",
    "\n",
    "import nest_asyncio\n",
    "nest_asyncio.apply()\n",
    "\n",
    "def mapPostureScoreLevelToHue(level):\n",
    "    # Posture score range from 0 (good) to 255 (bad); 256 steps; stepping in positive direction\n",
    "    # Hue range from 166 (good) to 216 (bad); 205 steps; stepping in negative direction; roll over at 0 to 255\n",
    "    rangeMultiplicator = 205 / 256\n",
    "    hueGoodPoint = 166\n",
    "    hue = hueGoodPoint - (level * rangeMultiplicator)\n",
    "    if hue < 0:\n",
    "        hue = 255 + hue\n",
    "    return hue\n",
    "                           \n",
    "                             \n",
    "\n",
    "async def changeColors():\n",
    "    print(\"changeColors\")\n",
    "    while True:\n",
    "        levelValue = await queue.get()\n",
    "        hueValue = mapPostureScoreLevelToHue(levelValue)\n",
    "        print(f\"get {levelValue}, set {hueValue}\")\n",
    "        await devCtrl.SendCommand(4, 1, Clusters.ColorControl.Commands.MoveToHue(hueValue, 0, 1, 0, 0))\n",
    "\n",
    "async def subscribe():\n",
    "    print(\"subscribe\")\n",
    "    reportingTimingParams = (0, 2) # MinInterval = 0s, MaxInterval = 2s\n",
    "    subscription = await devCtrl.ReadAttribute(bridgeId, [3, Clusters.LevelControl.Attributes.CurrentLevel], reportInterval=reportingTimingParams, returnClusterObject=True)\n",
    "    print(\"subscribed\")\n",
    "\n",
    "    def OnAttributeChangeCb(path: 'TypedAttributePath', transaction: 'SubscriptionTransaction'):  \n",
    "        # levelValue = transaction.GetAttribute(path)\n",
    "        # Does not work due to missing attributes. Got a Decoding Error object with incomplete values. \n",
    "        # Therefore get the first value of the error object (TLVValue) since we know this is the current level.\n",
    "        # Should be fixed in bridge version 2\n",
    "        levelValue = transaction.GetAttributes().get(path.Path.EndpointId).get(path.ClusterType).TLVValue.get(0)\n",
    "        print(f\"put {levelValue}\")\n",
    "        queue.put_nowait(levelValue)\n",
    "\n",
    "    subscription.SetAttributeUpdateCallback(callback=OnAttributeChangeCb)\n",
    "    \n",
    "    while True:\n",
    "        await asyncio.sleep(0)\n",
    "\n",
    "loop = asyncio.get_event_loop()\n",
    "loop.create_task(changeColors())\n",
    "loop.create_task(subscribe())\n",
    "\n",
    "# Note that to stop subscriptions, a restart of the Jupyter kernel is required.\n",
    "#subscription.Shutdown()"
   ]
  },
  {
   "cell_type": "code",
   "execution_count": null,
   "id": "07a639ac-d973-4a6b-a114-c4ed98a94056",
   "metadata": {
    "tags": []
   },
   "outputs": [],
   "source": [
    "subscription.Shutdown()"
   ]
  },
  {
   "cell_type": "markdown",
   "id": "2bf697b8-2026-434a-85e2-ec1776d57d85",
   "metadata": {},
   "source": [
    "Below are some commands for trying things out."
   ]
  },
  {
   "cell_type": "code",
   "execution_count": null,
   "id": "88fe8590-724b-4cf6-8a2d-96f0160a396d",
   "metadata": {
    "tags": []
   },
   "outputs": [],
   "source": [
    "await devCtrl.ReadAttribute(bridgeId, [('*')])"
   ]
  },
  {
   "cell_type": "code",
   "execution_count": null,
   "id": "12116154-7f80-477d-9884-af550796301d",
   "metadata": {},
   "outputs": [],
   "source": [
    "await devCtrl.ReadAttribute(lightId, [('*')])"
   ]
  },
  {
   "cell_type": "code",
   "execution_count": null,
   "id": "445c253a-0fa5-4b2c-aa1e-749410f88816",
   "metadata": {
    "tags": []
   },
   "outputs": [],
   "source": [
    "# Search for commissionable devices\n",
    "devices = devCtrl.DiscoverCommissionableNodes(filterType=chip.discovery.FilterType.LONG_DISCRIMINATOR, filter=discriminator, stopOnFirst=True, timeoutSecond=2)\n",
    "devices"
   ]
  },
  {
   "cell_type": "code",
   "execution_count": null,
   "id": "b89552b0-ccf9-4d4e-8a87-417028c75557",
   "metadata": {},
   "outputs": [],
   "source": [
    "# matterhelp(Clusters.ColorControl.Commands.MoveToHue)\n",
    "# ./chip-tool colorcontrol move-to-hue Hue Direction TransitionTime OptionsMask OptionsOverride destination-id endpoint-idendpoint-id\n",
    "# ./chip-tool colorcontrol move-to-hue 200 0         1              0           0               3              1\n",
    "await devCtrl.SendCommand(lightId, 1, Clusters.ColorControl.Commands.MoveToHue(100, 0, 1, 0, 0))"
   ]
  },
  {
   "cell_type": "code",
   "execution_count": null,
   "id": "ada5fa6b-3830-4bac-808d-43d7cd6e7015",
   "metadata": {
    "tags": []
   },
   "outputs": [],
   "source": [
    "# ./chip-tool levelcontrol move-to-level Level TransitionTime OptionsMask OptionsOverride destination-id endpoint-id\n",
    "# ./chip-tool levelcontrol move-to-level 254   0              0           0               3              1\n",
    "await devCtrl.SendCommand(lightId, 1, Clusters.LevelControl.Commands.MoveToLevel(2, 1, 0, 0))"
   ]
  },
  {
   "cell_type": "code",
   "execution_count": null,
   "id": "43e9ffe3-e29d-4fa5-89db-ca5b0f8d7613",
   "metadata": {
    "tags": []
   },
   "outputs": [],
   "source": [
    "await devCtrl.SendCommand(lightId, 1, Clusters.OnOff.Commands.On())\n"
   ]
  },
  {
   "cell_type": "code",
   "execution_count": null,
   "id": "b7e5c8d7-87da-4a04-8bee-28f820d3cea1",
   "metadata": {
    "tags": []
   },
   "outputs": [],
   "source": [
    "matterhelp(devCtrl)"
   ]
  }
 ],
 "metadata": {
  "kernelspec": {
   "display_name": "Python 3 (ipykernel)",
   "language": "python",
   "name": "python3"
  },
  "language_info": {
   "codemirror_mode": {
    "name": "ipython",
    "version": 3
   },
   "file_extension": ".py",
   "mimetype": "text/x-python",
   "name": "python",
   "nbconvert_exporter": "python",
   "pygments_lexer": "ipython3",
   "version": "3.9.2"
  }
 },
 "nbformat": 4,
 "nbformat_minor": 5
}
